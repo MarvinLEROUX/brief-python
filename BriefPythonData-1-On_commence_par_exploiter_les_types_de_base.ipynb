{
 "cells": [
  {
   "cell_type": "markdown",
   "metadata": {},
   "source": [
    "### CHERCHER DES SOUS CHAÎNES À L’AIDE D’UNE REGEX"
   ]
  },
  {
   "cell_type": "code",
   "execution_count": 9,
   "metadata": {},
   "outputs": [],
   "source": [
    "import re"
   ]
  },
  {
   "cell_type": "code",
   "execution_count": 10,
   "metadata": {},
   "outputs": [
    {
     "name": "stdout",
     "output_type": "stream",
     "text": [
      "['Daenerys Targaryen', 'Jon Snow', 'Tyrion Lannister']\n"
     ]
    }
   ],
   "source": [
    "series = \"Miss Fisher:Phrany Fisher;GOT:Daenerys Targaryen;X-Files:Dana Scully;Miss Fisher:Jack Robinson; Miss Fisher:Dorothy Williams;GOT:Jon Snow;GOT:Tyrion Lannister;X-Files:Fox Mulder\"\n",
    "\n",
    "pattern = r\":([A-Za-z ]+)[;|$]\"\n",
    "match = re.findall(r\"GOT\" + pattern, series)\n",
    "print(match)"
   ]
  },
  {
   "cell_type": "markdown",
   "metadata": {},
   "source": [
    "### UTILISER UN TEMPLATE POUR GÉNÉRER DU TEXTE"
   ]
  },
  {
   "cell_type": "raw",
   "metadata": {},
   "source": [
    "$ sudo pip3 install jinja2"
   ]
  },
  {
   "cell_type": "code",
   "execution_count": 11,
   "metadata": {},
   "outputs": [
    {
     "ename": "SyntaxError",
     "evalue": "invalid syntax (<ipython-input-11-d7d4a4674661>, line 3)",
     "output_type": "error",
     "traceback": [
      "\u001b[1;36m  File \u001b[1;32m\"<ipython-input-11-d7d4a4674661>\"\u001b[1;36m, line \u001b[1;32m3\u001b[0m\n\u001b[1;33m    Série {{ name | upper }}\u001b[0m\n\u001b[1;37m          ^\u001b[0m\n\u001b[1;31mSyntaxError\u001b[0m\u001b[1;31m:\u001b[0m invalid syntax\n"
     ]
    }
   ],
   "source": [
    "# modele fichier template modele.tpl\n",
    "\n",
    "Série {{ name | upper }}\n",
    "\n",
    "Personnages :{% for perso in personnages %}\n",
    "    - {{ perso }}{% endfor %}"
   ]
  },
  {
   "cell_type": "code",
   "execution_count": 12,
   "metadata": {},
   "outputs": [
    {
     "name": "stdout",
     "output_type": "stream",
     "text": [
      "\n",
      "Série TERRA NOVA\n",
      "\n",
      "Personnages :\n",
      "    - Jim Shannon\n",
      "    - Nathaniel Taylor\n",
      "    - …\n"
     ]
    }
   ],
   "source": [
    "# script Python utilisant ce template\n",
    "\n",
    "import jinja2\n",
    "\n",
    "env = jinja2.Environment(loader=jinja2.FileSystemLoader(\".\"))\n",
    "\n",
    "template = env.get_template(\"modele.tpl\")\n",
    "\n",
    "data = {\n",
    "    \"name\": \"Terra Nova\",\n",
    "    \"personnages\": [\"Jim Shannon\", \"Nathaniel Taylor\", \"…\"]\n",
    "}\n",
    "\n",
    "print(template.render(data))"
   ]
  },
  {
   "cell_type": "markdown",
   "metadata": {},
   "source": [
    "### LIRE DES DONNÉES AU CLAVIER"
   ]
  },
  {
   "cell_type": "code",
   "execution_count": 13,
   "metadata": {},
   "outputs": [
    {
     "name": "stdin",
     "output_type": "stream",
     "text": [
      "Donnez un entier : 4\n"
     ]
    },
    {
     "name": "stdout",
     "output_type": "stream",
     "text": [
      "Entier : 4\n"
     ]
    },
    {
     "name": "stdin",
     "output_type": "stream",
     "text": [
      "Donnez une phrase :  Bonjour\n"
     ]
    },
    {
     "name": "stdout",
     "output_type": "stream",
     "text": [
      "Chaîne : Bonjour\n"
     ]
    },
    {
     "name": "stdin",
     "output_type": "stream",
     "text": [
      "Donnez des réels séparés par une virgule :  2,3\n"
     ]
    },
    {
     "name": "stdout",
     "output_type": "stream",
     "text": [
      "Liste de réels : [2.0, 3.0]\n"
     ]
    }
   ],
   "source": [
    "error = True\n",
    "while error:\n",
    "    try:\n",
    "        entier = int(input(\"Donnez un entier :\"))\n",
    "        error = False\n",
    "    except:\n",
    "        print(\"Une valeur entière est attendue!\")\n",
    "print(\"Entier : {}\".format(entier))\n",
    "\n",
    "chaine = input(\"Donnez une phrase : \")\n",
    "print(\"Chaîne : {}\".format(chaine))\n",
    "\n",
    "error = True\n",
    "while error:\n",
    "    try:\n",
    "        reels = list(map(float, input(\"Donnez des réels séparés par une virgule : \").split(\",\")))\n",
    "        error = False\n",
    "    except:\n",
    "        print(\"Erreur dans la saisie!\")\n",
    "print(\"Liste de réels : {}\". format(reels))\n",
    "\n",
    "# ATTENTION SÉCU : ne jamais utiliser input() en python2 pour éviter une injection de code"
   ]
  },
  {
   "cell_type": "markdown",
   "metadata": {},
   "source": [
    "### ENREGISTRER ET CHARGER DES MATRICES"
   ]
  },
  {
   "cell_type": "code",
   "execution_count": 14,
   "metadata": {},
   "outputs": [
    {
     "name": "stdout",
     "output_type": "stream",
     "text": [
      "[[1 0 2]\n",
      " [0 3 0]]\n",
      "[[1 1 1 1]\n",
      " [2 2 2 2]\n",
      " [3 3 3 3]]\n"
     ]
    }
   ],
   "source": [
    "from scipy.io import  loadmat, savemat\n",
    "import scipy\n",
    "\n",
    "A = scipy.matrix([[1, 0, 2],[0, 3, 0]])\n",
    "B = scipy.matrix([[1, 1, 1, 1], [2, 2, 2, 2], [3, 3, 3, 3]])\n",
    "savemat(\"ma_matrice.mtx\", {\"A\": A, \"B\":B})\n",
    "\n",
    "m = loadmat(\"ma_matrice.mtx\")\n",
    "print(m[\"A\"])\n",
    "print(m[\"B\"])"
   ]
  },
  {
   "cell_type": "markdown",
   "metadata": {},
   "source": [
    "### UTILISER DES NOMBRES ALÉATOIRES"
   ]
  },
  {
   "cell_type": "code",
   "execution_count": 15,
   "metadata": {},
   "outputs": [
    {
     "name": "stdout",
     "output_type": "stream",
     "text": [
      "2\n",
      "9\n",
      "1\n",
      "4\n",
      "1\n",
      "14.908701741838819\n",
      "13.989821295774762\n",
      "18.031859454455258\n",
      "20.77446702271026\n",
      "6.877191735484698\n"
     ]
    }
   ],
   "source": [
    "import random\n",
    "\n",
    "DEBUG = True\n",
    "\n",
    "if DEBUG:\n",
    "    random.seed(1)\n",
    "\n",
    "for i in range(5):\n",
    "    print(random.randint(0, 10))\n",
    "\n",
    "for i in range(5):\n",
    "    print(random.uniform(5, 25))"
   ]
  },
  {
   "cell_type": "markdown",
   "metadata": {},
   "source": [
    "### VÉRIFIER LA VALIDITÉ D’UNE DATE"
   ]
  },
  {
   "cell_type": "code",
   "execution_count": 16,
   "metadata": {},
   "outputs": [
    {
     "name": "stdin",
     "output_type": "stream",
     "text": [
      "Indiquez un jour au format (jj/mm/aaaa):  17/11/2020\n"
     ]
    }
   ],
   "source": [
    "import datetime\n",
    "\n",
    "date = input(\"Indiquez un jour au format (jj/mm/aaaa): \")\n",
    "try:\n",
    "    (day, month, year) = map(int, date.split(\"/\"))\n",
    "    datetime = datetime.datetime(year, month, day)\n",
    "except ValueError:\n",
    "    print(\"La date n’est pas valide !\")"
   ]
  },
  {
   "cell_type": "code",
   "execution_count": 17,
   "metadata": {},
   "outputs": [
    {
     "name": "stdin",
     "output_type": "stream",
     "text": [
      "Indiquez un jour au format (jj/mm/aaaa):  17 Novembre 2020\n"
     ]
    },
    {
     "name": "stdout",
     "output_type": "stream",
     "text": [
      "La date n’est pas valide !\n"
     ]
    }
   ],
   "source": [
    "import datetime\n",
    "\n",
    "date = input(\"Indiquez un jour au format (jj/mm/aaaa): \")\n",
    "try:\n",
    "    (day, month, year) = map(int, date.split(\"/\"))\n",
    "    datetime = datetime.datetime(year, month, day)\n",
    "except ValueError:\n",
    "    print(\"La date n’est pas valide !\")"
   ]
  },
  {
   "cell_type": "markdown",
   "metadata": {},
   "source": [
    "### ACCÉDER À UN ENDROIT PRÉCIS D’UN FICHIER"
   ]
  },
  {
   "cell_type": "code",
   "execution_count": null,
   "metadata": {},
   "outputs": [],
   "source": [
    "# créez un fichier texte «fichier.txt»\n",
    "\n",
    "Hello !\n",
    "Fichier texte"
   ]
  },
  {
   "cell_type": "code",
   "execution_count": 18,
   "metadata": {},
   "outputs": [
    {
     "name": "stdout",
     "output_type": "stream",
     "text": [
      " !\n",
      "F\n",
      "e\n"
     ]
    }
   ],
   "source": [
    "try:\n",
    "    with open(\"text.txt\", \"r\") as fic:\n",
    "        fic.seek(6)\n",
    "        print(fic.read(4))\n",
    "        fic.seek(21)\n",
    "        print(fic.read(5))\n",
    "except FileNotFoundError as e:\n",
    "    print(\"Le fichier {} n’existe pas !\". format(e.filename))\n",
    "    exit(1)"
   ]
  },
  {
   "cell_type": "markdown",
   "metadata": {},
   "source": [
    "### LIRE UN FICHIER TEXTE LIGNE PAR LIGNE"
   ]
  },
  {
   "cell_type": "code",
   "execution_count": 19,
   "metadata": {},
   "outputs": [
    {
     "name": "stdout",
     "output_type": "stream",
     "text": [
      "\n",
      " Hello !\n",
      " Fichier texte "
     ]
    }
   ],
   "source": [
    "try:\n",
    "    with open(\"text.txt\", \"r\") as fic:\n",
    "        for line in fic:\n",
    "            print(line, end=\" \")\n",
    "except FileNotFoundError as e:\n",
    "    print(\"Le fichier {} n’existe pas !\".format(e.filename))\n",
    "    exit(1)\n",
    "except PermissionError as e:\n",
    "    print(\"Droit de lecture absent sur le fichier {} !\".format(e.filename))\n",
    "    exit(2)\n",
    "except Exception as e:\n",
    "    print(\"Une erreur a empêché l’ouverture du fichier : {}\".format(e.strerror))\n",
    "    exit(3)"
   ]
  },
  {
   "cell_type": "markdown",
   "metadata": {},
   "source": [
    "### CRÉER UN FICHIER XML"
   ]
  },
  {
   "cell_type": "code",
   "execution_count": 20,
   "metadata": {},
   "outputs": [
    {
     "ename": "SyntaxError",
     "evalue": "invalid syntax (<ipython-input-20-60564200722c>, line 3)",
     "output_type": "error",
     "traceback": [
      "\u001b[1;36m  File \u001b[1;32m\"<ipython-input-20-60564200722c>\"\u001b[1;36m, line \u001b[1;32m3\u001b[0m\n\u001b[1;33m    <series>\u001b[0m\n\u001b[1;37m    ^\u001b[0m\n\u001b[1;31mSyntaxError\u001b[0m\u001b[1;31m:\u001b[0m invalid syntax\n"
     ]
    }
   ],
   "source": [
    "# créez un fichier xml «series.xml»\n",
    "\n",
    "<series>\n",
    "    <nom titre=\"Docteur_Who\" lang=\"fr\">\n",
    "        <personnage>Docteur Who</personnage>\n",
    "        <personnage>Rose Tyler</personnage>\n",
    "        <personnage>Mickey Smith</personnage>\n",
    "    </nom>\n",
    "    <nom titre=\"Game_of_Throne\" lang=\"en\">\n",
    "        <personnage etat=\"mort\">Eddard Stark</personnage>\n",
    "        <personnage etat=\"mort\">Joffrey Baratheon</personnage>\n",
    "        <personnage etat=\"mort\">Margaery Tyrell</personnage>\n",
    "    </nom>\n",
    "</series>"
   ]
  },
  {
   "cell_type": "code",
   "execution_count": 21,
   "metadata": {},
   "outputs": [
    {
     "ename": "TypeError",
     "evalue": "write() argument must be str, not bytes",
     "output_type": "error",
     "traceback": [
      "\u001b[1;31m---------------------------------------------------------------------------\u001b[0m",
      "\u001b[1;31mTypeError\u001b[0m                                 Traceback (most recent call last)",
      "\u001b[1;32m<ipython-input-21-35cf73511435>\u001b[0m in \u001b[0;36m<module>\u001b[1;34m\u001b[0m\n\u001b[0;32m     15\u001b[0m \u001b[1;32mtry\u001b[0m\u001b[1;33m:\u001b[0m\u001b[1;33m\u001b[0m\u001b[1;33m\u001b[0m\u001b[0m\n\u001b[0;32m     16\u001b[0m     \u001b[1;32mwith\u001b[0m \u001b[0mopen\u001b[0m\u001b[1;33m(\u001b[0m\u001b[1;34m\"series.xml\"\u001b[0m\u001b[1;33m,\u001b[0m \u001b[1;34m\"w\"\u001b[0m\u001b[1;33m)\u001b[0m \u001b[1;32mas\u001b[0m \u001b[0mfic\u001b[0m\u001b[1;33m:\u001b[0m\u001b[1;33m\u001b[0m\u001b[1;33m\u001b[0m\u001b[0m\n\u001b[1;32m---> 17\u001b[1;33m         \u001b[0mfic\u001b[0m\u001b[1;33m.\u001b[0m\u001b[0mwrite\u001b[0m\u001b[1;33m(\u001b[0m\u001b[0metree\u001b[0m\u001b[1;33m.\u001b[0m\u001b[0mtostring\u001b[0m\u001b[1;33m(\u001b[0m\u001b[0mroot\u001b[0m\u001b[1;33m,\u001b[0m \u001b[0mpretty_print\u001b[0m\u001b[1;33m=\u001b[0m\u001b[1;32mTrue\u001b[0m\u001b[1;33m)\u001b[0m\u001b[1;33m)\u001b[0m\u001b[1;33m.\u001b[0m\u001b[0mdecode\u001b[0m\u001b[1;33m(\u001b[0m\u001b[1;34m\"utf-8\"\u001b[0m\u001b[1;33m)\u001b[0m\u001b[1;33m\u001b[0m\u001b[1;33m\u001b[0m\u001b[0m\n\u001b[0m\u001b[0;32m     18\u001b[0m \u001b[1;32mexcept\u001b[0m \u001b[0mIOError\u001b[0m\u001b[1;33m:\u001b[0m\u001b[1;33m\u001b[0m\u001b[1;33m\u001b[0m\u001b[0m\n\u001b[0;32m     19\u001b[0m     \u001b[0mprint\u001b[0m\u001b[1;33m(\u001b[0m\u001b[1;34m\"Problème rencontré lors de l’écriture…\"\u001b[0m\u001b[1;33m)\u001b[0m\u001b[1;33m\u001b[0m\u001b[1;33m\u001b[0m\u001b[0m\n",
      "\u001b[1;31mTypeError\u001b[0m: write() argument must be str, not bytes"
     ]
    }
   ],
   "source": [
    "from lxml import etree\n",
    "\n",
    "root = etree.Element(\"series\")\n",
    "\n",
    "serie = etree.SubElement(root, \"nom\")\n",
    "serie.set(\"lang\", \"fr\")\n",
    "serie.set(\"titre\", \"Docteurr_who\")\n",
    "\n",
    "personnages = [\"Docteur Who\", \"Rose Tyler\", \"Mickey Smith\"]\n",
    "\n",
    "for perso in personnages:\n",
    "    personnage = etree.SubElement(serie, \"personnage\")\n",
    "    personnage.text = perso\n",
    "    \n",
    "try:\n",
    "    with open(\"series.xml\", \"w\") as fic:\n",
    "        fic.write(etree.tostring(root, pretty_print=True)).decode(\"utf-8\")\n",
    "except IOError:\n",
    "    print(\"Problème rencontré lors de l’écriture…\")\n",
    "    exit(1)"
   ]
  },
  {
   "cell_type": "markdown",
   "metadata": {},
   "source": [
    "### LIRE UN FICHIER XML"
   ]
  },
  {
   "cell_type": "code",
   "execution_count": 22,
   "metadata": {},
   "outputs": [
    {
     "ename": "AttributeError",
     "evalue": "module 'xml.etree' has no attribute 'parse'",
     "output_type": "error",
     "traceback": [
      "\u001b[1;31m---------------------------------------------------------------------------\u001b[0m",
      "\u001b[1;31mAttributeError\u001b[0m                            Traceback (most recent call last)",
      "\u001b[1;32m<ipython-input-22-b1d803127eec>\u001b[0m in \u001b[0;36m<module>\u001b[1;34m\u001b[0m\n\u001b[0;32m      1\u001b[0m \u001b[1;32mfrom\u001b[0m \u001b[0mxml\u001b[0m \u001b[1;32mimport\u001b[0m \u001b[0metree\u001b[0m\u001b[1;33m\u001b[0m\u001b[1;33m\u001b[0m\u001b[0m\n\u001b[0;32m      2\u001b[0m \u001b[1;33m\u001b[0m\u001b[0m\n\u001b[1;32m----> 3\u001b[1;33m \u001b[0mtree\u001b[0m \u001b[1;33m=\u001b[0m \u001b[0metree\u001b[0m\u001b[1;33m.\u001b[0m\u001b[0mparse\u001b[0m\u001b[1;33m(\u001b[0m\u001b[1;34m\"series.xml\"\u001b[0m\u001b[1;33m)\u001b[0m\u001b[1;33m\u001b[0m\u001b[1;33m\u001b[0m\u001b[0m\n\u001b[0m\u001b[0;32m      4\u001b[0m \u001b[1;33m\u001b[0m\u001b[0m\n\u001b[0;32m      5\u001b[0m \u001b[1;32mfor\u001b[0m \u001b[0mnode\u001b[0m \u001b[1;32min\u001b[0m \u001b[0mtree\u001b[0m\u001b[1;33m.\u001b[0m\u001b[0mxpath\u001b[0m\u001b[1;33m(\u001b[0m\u001b[1;34m\"//series/nom\"\u001b[0m\u001b[1;33m)\u001b[0m\u001b[1;33m:\u001b[0m\u001b[1;33m\u001b[0m\u001b[1;33m\u001b[0m\u001b[0m\n",
      "\u001b[1;31mAttributeError\u001b[0m: module 'xml.etree' has no attribute 'parse'"
     ]
    }
   ],
   "source": [
    "from xml import etree\n",
    "\n",
    "tree = etree.parse(\"series.xml\")\n",
    "\n",
    "for node in tree.xpath(\"//series/nom\"):\n",
    "    print(\"Serie {} en {}:\".format(node.get(\"titre\"), node.get(\"lang\")))\n",
    "    for perso in node.xpath(\"personnage\"):\n",
    "        print(\" {}\".format(perso.text))"
   ]
  },
  {
   "cell_type": "markdown",
   "metadata": {},
   "source": [
    "### CRÉER UN FICHIER JSON"
   ]
  },
  {
   "cell_type": "code",
   "execution_count": 23,
   "metadata": {},
   "outputs": [],
   "source": [
    "import json\n",
    "\n",
    "data = {\n",
    "    \"series\": {\n",
    "        \"Docteur Who\":{\n",
    "            \"personnages\":[\n",
    "                \"Docteur Who\",\n",
    "                \"Rose Tyler\",\n",
    "                \"Mickey Smith\"\n",
    "            ]\n",
    "        }\n",
    "    }\n",
    "}\n",
    "\n",
    "try:\n",
    "    with open(\"series.json\", \"w\") as fic:\n",
    "        fic.write(json.dumps(data, indent=4))\n",
    "except:\n",
    "    print(\"Erreur lors de la création du fichier\")\n",
    "    exit(1)"
   ]
  },
  {
   "cell_type": "markdown",
   "metadata": {},
   "source": [
    "### LIRE UN FICHIER JSON"
   ]
  },
  {
   "cell_type": "code",
   "execution_count": 24,
   "metadata": {},
   "outputs": [
    {
     "name": "stdout",
     "output_type": "stream",
     "text": [
      "{'series': {'Docteur Who': {'personnages': ['Docteur Who', 'Rose Tyler', 'Mickey Smith']}}}\n"
     ]
    }
   ],
   "source": [
    "try:\n",
    "    with open(\"series.json\", \"r\") as fic:\n",
    "        series = json.load(fic)\n",
    "except:\n",
    "    print(\"Erreur lors de la lecture du fichier\")\n",
    "    exit(1)\n",
    "\n",
    "print(series)"
   ]
  },
  {
   "cell_type": "markdown",
   "metadata": {},
   "source": [
    "### PARCOURIR UNE LISTE"
   ]
  },
  {
   "cell_type": "code",
   "execution_count": 25,
   "metadata": {},
   "outputs": [
    {
     "name": "stdout",
     "output_type": "stream",
     "text": [
      "0 Jarod\n",
      "1 Miss Parker\n",
      "2 Sydney\n",
      "3 Broots\n",
      "4 Raines\n"
     ]
    }
   ],
   "source": [
    "ma_liste = [\"Jarod\", \"Miss Parker\", \"Sydney\", \"Broots\", \"Raines\"]\n",
    "\n",
    "for num, name in enumerate(ma_liste):\n",
    "    print(num, name)"
   ]
  },
  {
   "cell_type": "markdown",
   "metadata": {},
   "source": [
    "### TRIER UNE LISTE D’ENTIERS LUS SOUS FORME D’UNE CHAÎNE DE CARACTÈRES"
   ]
  },
  {
   "cell_type": "code",
   "execution_count": 26,
   "metadata": {},
   "outputs": [
    {
     "name": "stdout",
     "output_type": "stream",
     "text": [
      "[1, 4, 5, 6, 8, 12, 21, 24, 33]\n"
     ]
    }
   ],
   "source": [
    "liste = \"5;12 ; 24; 6; 1 ;8 ;33\\n; 21\\r; 4\"\n",
    "liste_triee = sorted(map(int, liste.split(\";\")))\n",
    "print(list(liste_triee))"
   ]
  },
  {
   "cell_type": "markdown",
   "metadata": {},
   "source": [
    "### TRIER UNE LISTE AVEC UNE FONCTION DE TRI PERSONNALISÉE"
   ]
  },
  {
   "cell_type": "code",
   "execution_count": 7,
   "metadata": {},
   "outputs": [
    {
     "ename": "TypeError",
     "evalue": "sort() takes at most 2 arguments (3 given)",
     "output_type": "error",
     "traceback": [
      "\u001b[1;31m---------------------------------------------------------------------------\u001b[0m",
      "\u001b[1;31mTypeError\u001b[0m                                 Traceback (most recent call last)",
      "\u001b[1;32m<ipython-input-7-8d27e9a07b5c>\u001b[0m in \u001b[0;36m<module>\u001b[1;34m\u001b[0m\n\u001b[0;32m      1\u001b[0m \u001b[0mma_liste\u001b[0m \u001b[1;33m=\u001b[0m \u001b[1;33m[\u001b[0m\u001b[1;33m(\u001b[0m\u001b[1;34m\"Joey\"\u001b[0m\u001b[1;33m,\u001b[0m \u001b[1;36m4\u001b[0m\u001b[1;33m)\u001b[0m\u001b[1;33m,\u001b[0m \u001b[1;33m(\u001b[0m\u001b[1;34m\"Chandler\"\u001b[0m\u001b[1;33m,\u001b[0m \u001b[1;36m2\u001b[0m\u001b[1;33m)\u001b[0m\u001b[1;33m,\u001b[0m \u001b[1;33m(\u001b[0m\u001b[1;34m\"Rachel\"\u001b[0m\u001b[1;33m,\u001b[0m \u001b[1;36m5\u001b[0m\u001b[1;33m)\u001b[0m\u001b[1;33m,\u001b[0m \u001b[1;33m(\u001b[0m\u001b[1;34m\"Ross\"\u001b[0m\u001b[1;33m,\u001b[0m \u001b[1;36m1\u001b[0m\u001b[1;33m)\u001b[0m\u001b[1;33m,\u001b[0m \u001b[1;33m(\u001b[0m\u001b[1;34m\"Phoebe\"\u001b[0m\u001b[1;33m,\u001b[0m \u001b[1;36m3\u001b[0m\u001b[1;33m)\u001b[0m\u001b[1;33m,\u001b[0m  \u001b[1;33m(\u001b[0m\u001b[1;34m\"Monica\"\u001b[0m\u001b[1;33m,\u001b[0m \u001b[1;36m6\u001b[0m\u001b[1;33m)\u001b[0m\u001b[1;33m]\u001b[0m\u001b[1;33m\u001b[0m\u001b[1;33m\u001b[0m\u001b[0m\n\u001b[0;32m      2\u001b[0m \u001b[1;33m\u001b[0m\u001b[0m\n\u001b[1;32m----> 3\u001b[1;33m \u001b[0mma_liste\u001b[0m\u001b[1;33m.\u001b[0m\u001b[0msort\u001b[0m\u001b[1;33m(\u001b[0m\u001b[0mma_liste\u001b[0m\u001b[1;33m,\u001b[0m \u001b[0mkey\u001b[0m \u001b[1;33m=\u001b[0m \u001b[1;32mlambda\u001b[0m \u001b[0melt\u001b[0m \u001b[1;33m:\u001b[0m \u001b[0melt\u001b[0m\u001b[1;33m[\u001b[0m\u001b[1;36m1\u001b[0m\u001b[1;33m]\u001b[0m\u001b[1;33m,\u001b[0m \u001b[0mreverse\u001b[0m \u001b[1;33m=\u001b[0m \u001b[1;32mTrue\u001b[0m\u001b[1;33m)\u001b[0m\u001b[1;33m\u001b[0m\u001b[1;33m\u001b[0m\u001b[0m\n\u001b[0m\u001b[0;32m      4\u001b[0m \u001b[1;33m\u001b[0m\u001b[0m\n\u001b[0;32m      5\u001b[0m \u001b[0mprint\u001b[0m\u001b[1;33m(\u001b[0m\u001b[0mma_liste\u001b[0m\u001b[1;33m)\u001b[0m\u001b[1;33m\u001b[0m\u001b[1;33m\u001b[0m\u001b[0m\n",
      "\u001b[1;31mTypeError\u001b[0m: sort() takes at most 2 arguments (3 given)"
     ]
    }
   ],
   "source": [
    "ma_liste = [(\"Joey\", 4), (\"Chandler\", 2), (\"Rachel\", 5), (\"Ross\", 1), (\"Phoebe\", 3),  (\"Monica\", 6)]\n",
    "\n",
    "ma_liste.sort(ma_liste, key = lambda elt : elt[1], reverse = True)\n",
    "\n",
    "print(ma_liste)"
   ]
  },
  {
   "cell_type": "markdown",
   "metadata": {},
   "source": [
    "### SUPPRIMER LES DOUBLONS DANS UNE LISTE"
   ]
  },
  {
   "cell_type": "code",
   "execution_count": null,
   "metadata": {},
   "outputs": [],
   "source": [
    "ma_liste = [1, 1, 2, 4, 4, 5, 3, 2, 3, 6, 7, 6, 6, 7, 7]\n",
    "\n",
    "ma_liste_sans_doublon = list(set(ma_liste))\n",
    "\n",
    "print(ma_liste_sans_doublon)"
   ]
  },
  {
   "cell_type": "markdown",
   "metadata": {},
   "source": [
    "### TRIER LES VALEURS D’UN DICTIONNAIRE"
   ]
  },
  {
   "cell_type": "code",
   "execution_count": null,
   "metadata": {},
   "outputs": [],
   "source": [
    "dico = {}\n",
    "dico[\"David\"] = \"Ziva\"\n",
    "dico[\"Gibbs\"] = \"Leroy Jethro\"\n",
    "dico[\"DiNozzo\"] = \"Anthony\"\n",
    "dico[\"Sciuto\"] = \"Aigail\"\n",
    "dico[\"McGee\"] = \"Timothy\"\n",
    "\n",
    "for firstname in sorted(dico.values()):\n",
    "    print(firstname)"
   ]
  },
  {
   "cell_type": "markdown",
   "metadata": {},
   "source": [
    "### CONSERVER L’ORDRE DES ÉLÉMENTS DANS UN DICTIONNAIRE"
   ]
  },
  {
   "cell_type": "code",
   "execution_count": null,
   "metadata": {},
   "outputs": [],
   "source": [
    "# par déf, un dictionnaire est une structure non ordonnée\n",
    "import collections\n",
    "\n",
    "dico = collections.OrderedDict()\n",
    "dico[\"Castle\"] = \"Richard\"\n",
    "dico[\"Beckett\"] = \"Kate\"\n",
    "dico[\"Esposito\"] = \"Javier\"\n",
    "dico[\"Ryan\"] = \"Kevin\"\n",
    "\n",
    "\n",
    "for name, firstname in dico.items():\n",
    "    print(firstname, name)"
   ]
  },
  {
   "cell_type": "markdown",
   "metadata": {},
   "source": [
    "### CRÉER UN DICTIONNAIRE QUI SOIT LA FUSION DE DEUX DICTIONNAIRES"
   ]
  },
  {
   "cell_type": "code",
   "execution_count": null,
   "metadata": {},
   "outputs": [],
   "source": [
    "dico_1 = {\"Nathaniel\": \"Taylor\", \"Malcom\": \"Wallace\", \"Lucas\": \"Taylor\"}\n",
    "dico_2 = {\"Jim\": \"Shannon\", \"Elisabeth\": \"Shannon\", \"Maddy\": \"Shannon\"}\n",
    "\n",
    "new_dico = dico_1.copy()\n",
    "new_dico.update(dico_2)\n",
    "print(new_dico)"
   ]
  },
  {
   "cell_type": "markdown",
   "metadata": {},
   "source": [
    "### [BONUS] CRÉER UNE LISTE EN UTILISANT LA COMPRÉHENSION DE LISTE"
   ]
  },
  {
   "cell_type": "code",
   "execution_count": null,
   "metadata": {},
   "outputs": [],
   "source": [
    "ma_liste = [(num, num**2, num**3) for num in (1, 4, 7, 12)]\n",
    "\n",
    "ma_liste_2 = [(x, y) for x in range(11) for y in range(11)]"
   ]
  },
  {
   "cell_type": "markdown",
   "metadata": {},
   "source": [
    "### [BONUS] CRÉER UN DICTIONNAIRE EN UTILISANT LA COMPRÉHENSION DE DICTIONNAIRE"
   ]
  },
  {
   "cell_type": "code",
   "execution_count": null,
   "metadata": {},
   "outputs": [],
   "source": [
    "ma_liste = [\"murdoch\", \"william\", \"ogden\", \"julia\", \"brackenreid\", \"thomas\", \"crabtree\", \"george\"]\n",
    "\n",
    "dico = { name.upper() : firstname.capitalize() for name, firstname in zip(ma_liste[::2], ma_liste[1::2])}\n",
    "\n",
    "print(dico)"
   ]
  },
  {
   "cell_type": "code",
   "execution_count": null,
   "metadata": {},
   "outputs": [],
   "source": []
  }
 ],
 "metadata": {
  "kernelspec": {
   "display_name": "Python 3",
   "language": "python",
   "name": "python3"
  },
  "language_info": {
   "codemirror_mode": {
    "name": "ipython",
    "version": 3
   },
   "file_extension": ".py",
   "mimetype": "text/x-python",
   "name": "python",
   "nbconvert_exporter": "python",
   "pygments_lexer": "ipython3",
   "version": "3.8.6"
  }
 },
 "nbformat": 4,
 "nbformat_minor": 4
}
